{
 "cells": [
  {
   "cell_type": "markdown",
   "id": "a864b16f-80af-41db-bacb-3b55f22e1ccf",
   "metadata": {},
   "source": [
    "## JEEVANSH ASSIGNMENT ESTIMATION THEORY"
   ]
  },
  {
   "cell_type": "code",
   "execution_count": 2,
   "id": "1a89d489-6bf9-4951-bf71-d786fad255b8",
   "metadata": {},
   "outputs": [],
   "source": [
    "# Libraries to help with data manipulation and visualization\n",
    "import pandas as pd\n",
    "import numpy as np\n",
    "import matplotlib.pyplot as plt\n",
    "import seaborn as sns\n",
    "from scipy.stats import norm\n",
    "\n",
    "# Enable inline plotting for Jupyter Notebooks\n",
    "%matplotlib inline\n"
   ]
  },
  {
   "cell_type": "markdown",
   "id": "a7a21f96-bc06-4a28-9666-cd3fbfeb5b59",
   "metadata": {},
   "source": [
    "# Q1"
   ]
  },
  {
   "cell_type": "code",
   "execution_count": 5,
   "id": "e4734490-961a-479d-8a96-b5b781c09e96",
   "metadata": {},
   "outputs": [
    {
     "name": "stdout",
     "output_type": "stream",
     "text": [
      "Z-score: -2.11\n",
      "Probability that the mean lifetime is less than 58 months: 0.0175\n"
     ]
    }
   ],
   "source": [
    "# Given parameters\n",
    "mu = 60  # population mean\n",
    "sigma = 6  # population standard deviation\n",
    "n = 40  # sample size\n",
    "\n",
    "# Standard error of the mean\n",
    "se = sigma / np.sqrt(n)\n",
    "\n",
    "# Probability that the sample mean is less than 58\n",
    "z = (58 - mu) / se\n",
    "prob = norm.cdf(z)\n",
    "\n",
    "print(f\"Z-score: {z:.2f}\")\n",
    "print(f\"Probability that the mean lifetime is less than 58 months: {prob:.4f}\")\n"
   ]
  },
  {
   "cell_type": "markdown",
   "id": "c07c708a-f775-4f55-b606-a7d4495141c1",
   "metadata": {},
   "source": [
    "# Q2"
   ]
  },
  {
   "cell_type": "code",
   "execution_count": 13,
   "id": "2fa58fe8-0e69-4068-88cd-39f7d336b2e4",
   "metadata": {},
   "outputs": [
    {
     "name": "stdout",
     "output_type": "stream",
     "text": [
      "95% Confidence Interval: (282.42, 337.58)\n"
     ]
    }
   ],
   "source": [
    "# Given parameters\n",
    "sample_mean = 310  # sample mean\n",
    "std_dev = 89  # population standard deviation\n",
    "n = 40  # sample size\n",
    "confidence_level = 0.95\n",
    "\n",
    "# Critical Z-value for 95% confidence\n",
    "z_critical = norm.ppf(1 - (1 - confidence_level) / 2)\n",
    "\n",
    "# Standard error\n",
    "se = std_dev / np.sqrt(n)\n",
    "\n",
    "# Confidence interval\n",
    "margin_of_error = z_critical * se\n",
    "lower_limit = sample_mean - margin_of_error\n",
    "upper_limit = sample_mean + margin_of_error\n",
    "\n",
    "print(f\"95% Confidence Interval: ({lower_limit:.2f}, {upper_limit:.2f})\")\n"
   ]
  },
  {
   "cell_type": "markdown",
   "id": "f9a3d108-6a6f-4ca8-9f9f-c7e51f6a7abd",
   "metadata": {},
   "source": [
    "# Q3"
   ]
  },
  {
   "cell_type": "code",
   "execution_count": 11,
   "id": "5e5b195d-417b-4f96-a98e-2941e5716951",
   "metadata": {},
   "outputs": [
    {
     "name": "stdout",
     "output_type": "stream",
     "text": [
      "Null Hypothesis H0: The mean waiting time is 4.5 minutes.\n",
      "Alternative Hypothesis H1: The mean waiting time is not 4.5 minutes.\n"
     ]
    }
   ],
   "source": [
    "# Null and alternative hypotheses\n",
    "print(\"Null Hypothesis H0: The mean waiting time is 4.5 minutes.\")\n",
    "print(\"Alternative Hypothesis H1: The mean waiting time is not 4.5 minutes.\")\n"
   ]
  },
  {
   "cell_type": "markdown",
   "id": "04c6c7af-50e6-4e23-8e70-31a73570e100",
   "metadata": {},
   "source": [
    "# Q4"
   ]
  },
  {
   "cell_type": "code",
   "execution_count": 16,
   "id": "3596b4ce-0dd1-4020-8b02-6a44abee42ee",
   "metadata": {},
   "outputs": [
    {
     "name": "stdout",
     "output_type": "stream",
     "text": [
      "P-value for two-tailed test with Z-stat = 2.0: 0.0455\n"
     ]
    }
   ],
   "source": [
    "# Z-statistic\n",
    "z_stat = 2.00\n",
    "\n",
    "# Two-tailed p-value\n",
    "p_value = 2 * (1 - norm.cdf(z_stat))\n",
    "\n",
    "print(f\"P-value for two-tailed test with Z-stat = {z_stat}: {p_value:.4f}\")\n"
   ]
  },
  {
   "cell_type": "markdown",
   "id": "93ae8ecf-98d0-4648-b988-8e5803e4da33",
   "metadata": {},
   "source": [
    "# Q5"
   ]
  },
  {
   "cell_type": "code",
   "execution_count": 19,
   "id": "818ac60a-b26f-43c2-ac3e-5e9ebf72222a",
   "metadata": {},
   "outputs": [
    {
     "name": "stdout",
     "output_type": "stream",
     "text": [
      "Z-statistic: 2.50\n",
      "P-value: 0.0062\n",
      "Conclusion: Reject the null hypothesis. Launch the product line.\n"
     ]
    }
   ],
   "source": [
    "# Given parameters\n",
    "sample_mean = 30000  # sample mean\n",
    "pop_std = 8000  # population standard deviation\n",
    "n = 400  # sample size\n",
    "alpha = 0.05  # significance level\n",
    "mu_0 = 29000  # hypothesized population mean\n",
    "\n",
    "# Standard error\n",
    "se = pop_std / np.sqrt(n)\n",
    "\n",
    "# Test statistic (Z-score)\n",
    "z_stat = (sample_mean - mu_0) / se\n",
    "\n",
    "# P-value for one-tailed test\n",
    "p_value = 1 - norm.cdf(z_stat)\n",
    "\n",
    "# Decision\n",
    "if p_value < alpha:\n",
    "    conclusion = \"Reject the null hypothesis. Launch the product line.\"\n",
    "else:\n",
    "    conclusion = \"Fail to reject the null hypothesis. Do not launch the product line.\"\n",
    "\n",
    "print(f\"Z-statistic: {z_stat:.2f}\")\n",
    "print(f\"P-value: {p_value:.4f}\")\n",
    "print(f\"Conclusion: {conclusion}\")\n"
   ]
  },
  {
   "cell_type": "code",
   "execution_count": null,
   "id": "9fcf4940-8ede-4861-b5e6-e1528dc0863e",
   "metadata": {},
   "outputs": [],
   "source": []
  }
 ],
 "metadata": {
  "kernelspec": {
   "display_name": "Python 3 (ipykernel)",
   "language": "python",
   "name": "python3"
  },
  "language_info": {
   "codemirror_mode": {
    "name": "ipython",
    "version": 3
   },
   "file_extension": ".py",
   "mimetype": "text/x-python",
   "name": "python",
   "nbconvert_exporter": "python",
   "pygments_lexer": "ipython3",
   "version": "3.12.4"
  }
 },
 "nbformat": 4,
 "nbformat_minor": 5
}
